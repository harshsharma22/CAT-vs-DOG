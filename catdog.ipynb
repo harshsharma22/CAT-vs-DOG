{
  "nbformat": 4,
  "nbformat_minor": 0,
  "metadata": {
    "colab": {
      "name": "Untitled2.ipynb",
      "version": "0.3.2",
      "views": {},
      "default_view": {},
      "provenance": [],
      "collapsed_sections": []
    },
    "kernelspec": {
      "name": "python3",
      "display_name": "Python 3"
    }
  },
  "cells": [
    {
      "metadata": {
        "id": "iQk4SmS4bHkk",
        "colab_type": "text"
      },
      "cell_type": "markdown",
      "source": [
        ""
      ]
    },
    {
      "metadata": {
        "id": "ARh9fiWnbKjH",
        "colab_type": "text"
      },
      "cell_type": "markdown",
      "source": [
        "**Dog and Cat classifier using SVM **"
      ]
    },
    {
      "metadata": {
        "id": "RQCTmjDyaQdr",
        "colab_type": "text"
      },
      "cell_type": "markdown",
      "source": [
        "**Importing all Libraries**"
      ]
    },
    {
      "metadata": {
        "id": "zy1-se6vSPeo",
        "colab_type": "code",
        "colab": {
          "autoexec": {
            "startup": false,
            "wait_interval": 0
          }
        }
      },
      "cell_type": "code",
      "source": [
        "import pickle\n",
        "from skimage import exposure\n",
        "from skimage import feature\n",
        "import imutils\n",
        "import cv2\n",
        "import glob\n",
        "import pandas as pd\n",
        "from sklearn.svm import SVC\n",
        "\n",
        "import time\n",
        "import re\n"
      ],
      "execution_count": 0,
      "outputs": []
    },
    {
      "metadata": {
        "id": "iYBOuEaibZtG",
        "colab_type": "text"
      },
      "cell_type": "markdown",
      "source": [
        "initialize the necessary  variable "
      ]
    },
    {
      "metadata": {
        "id": "t75gQG5GbvkW",
        "colab_type": "code",
        "colab": {
          "autoexec": {
            "startup": false,
            "wait_interval": 0
          }
        }
      },
      "cell_type": "code",
      "source": [
        "data = []\n",
        "labels = []\n",
        "o=0\n",
        "list2=[]\n",
        "t=time.time()"
      ],
      "execution_count": 0,
      "outputs": []
    },
    {
      "metadata": {
        "id": "Gl6CinY3c6FT",
        "colab_type": "text"
      },
      "cell_type": "markdown",
      "source": [
        "**Extracting the feature using hog**"
      ]
    },
    {
      "metadata": {
        "id": "Lh2Yl0Urc2gb",
        "colab_type": "code",
        "colab": {
          "autoexec": {
            "startup": false,
            "wait_interval": 0
          }
        }
      },
      "cell_type": "code",
      "source": [
        "for imagePath in glob.glob('train/*.jpg',recursive=True):\n",
        "    print(o)\n",
        "    make = imagePath.split(\"\\\\\")[-1]\n",
        "    if re.match(\"cat\",make):\n",
        "        labels.append(\"cat\")\n",
        "    else:\n",
        "        labels.append(\"dog\")\n",
        "\n",
        "\n",
        "    image = cv2.imread(imagePath)\n",
        "    gray = cv2.cvtColor(image, cv2.COLOR_BGR2GRAY)\n",
        "    edged = imutils.auto_canny(gray)\n",
        "\n",
        "\n",
        "    logo = cv2.resize(gray, (200, 100))\n",
        "\n",
        "    H = feature.hog(logo, orientations=9, pixels_per_cell=(10, 10),\n",
        "                    cells_per_block=(2, 2), transform_sqrt=True, block_norm=\"L1\")\n",
        "\n",
        "    o=o+1\n",
        "    data.append(H)"
      ],
      "execution_count": 0,
      "outputs": []
    },
    {
      "metadata": {
        "id": "RPI7F-1Xdm_3",
        "colab_type": "text"
      },
      "cell_type": "markdown",
      "source": [
        "\n",
        "\n",
        "**Traning the SVC model using hog feature in above Step**\n",
        "\n"
      ]
    },
    {
      "metadata": {
        "id": "hYED8g8TdrKL",
        "colab_type": "code",
        "colab": {
          "autoexec": {
            "startup": false,
            "wait_interval": 0
          }
        }
      },
      "cell_type": "code",
      "source": [
        "t1=time.time()\n",
        "print(\"total time to extract feature\",t1-t)\n",
        "print(\"traning the model\")\n",
        "t=time.time()\n",
        "model = SVC()\n",
        "model.fit(data,labels)\n",
        "t1=time.time()\n",
        "prede =[]\n",
        "print(\"total time to train the model\",t1-t)"
      ],
      "execution_count": 0,
      "outputs": []
    },
    {
      "metadata": {
        "id": "Slc7LhRPd4aT",
        "colab_type": "text"
      },
      "cell_type": "markdown",
      "source": [
        "**Testing the Classifire**"
      ]
    },
    {
      "metadata": {
        "id": "EilCmzO_ePqu",
        "colab_type": "code",
        "colab": {
          "autoexec": {
            "startup": false,
            "wait_interval": 0
          }
        }
      },
      "cell_type": "code",
      "source": [
        "for (i, imagePath) in enumerate(glob.glob('test1/*.jpg')):\n",
        "\n",
        "    image = cv2.imread(imagePath)\n",
        "    gray = cv2.cvtColor(image, cv2.COLOR_BGR2GRAY)\n",
        "    logo = cv2.resize(gray, (200, 100))\n",
        "\n",
        "\n",
        "    (H, hogImage) = feature.hog(logo, orientations=9, pixels_per_cell=(10, 10),\n",
        "                                cells_per_block=(2, 2), transform_sqrt=True,\n",
        "                                block_norm=\"L1\", visualise=True)\n",
        "    pred = model.predict(H.reshape(1, -1))[0]\n",
        "    print(pred)\n",
        "    prede.append(pred)\n",
        "    hogImage = exposure.rescale_intensity(hogImage, out_range=(0, 255))\n",
        "    hogImage = hogImage.astype(\"uint8\")\n",
        "    #cv2.imshow(\"HOG Image #{}\".format(i + 1), hogImage)\n",
        "\n",
        "\n",
        "    cv2.putText(image, pred.title(), (10, 35), cv2.FONT_ITALIC, 1.0,\n",
        "                (0, 255, 0),4 )\n",
        "    cv2.imshow(\"Test Image #{}\".format(i + 1), image)\n",
        "    cv2.waitKey(0)\n",
        "\n"
      ],
      "execution_count": 0,
      "outputs": []
    }
  ]
}